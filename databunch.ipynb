{
 "cells": [
  {
   "cell_type": "markdown",
   "metadata": {},
   "source": [
    "# import"
   ]
  },
  {
   "cell_type": "code",
   "execution_count": 1,
   "metadata": {},
   "outputs": [],
   "source": [
    "#export\n",
    "from fastai.vision import *"
   ]
  },
  {
   "cell_type": "code",
   "execution_count": 2,
   "metadata": {},
   "outputs": [],
   "source": [
    "#export\n",
    "import cv2"
   ]
  },
  {
   "cell_type": "code",
   "execution_count": 3,
   "metadata": {},
   "outputs": [],
   "source": [
    "#export\n",
    "import os"
   ]
  },
  {
   "cell_type": "markdown",
   "metadata": {},
   "source": [
    "# functions"
   ]
  },
  {
   "cell_type": "code",
   "execution_count": 4,
   "metadata": {},
   "outputs": [],
   "source": [
    "#export\n",
    "def get_y(x, ds_rootdir, imgdir, maskdir):\n",
    "    yfn = os.path.join(ds_rootdir, maskdir, '%s_mask%s' % (x.stem, x.suffix))\n",
    "    #print(yfn, x.stem, x.suffix)\n",
    "    return yfn"
   ]
  },
  {
   "cell_type": "code",
   "execution_count": 5,
   "metadata": {},
   "outputs": [],
   "source": [
    "#export\n",
    "class UnetSegmentationLabelList(SegmentationLabelList):\n",
    "    def open(self, fn):\n",
    "        return open_mask(fn, div=True)"
   ]
  },
  {
   "cell_type": "code",
   "execution_count": 6,
   "metadata": {},
   "outputs": [],
   "source": [
    "#export\n",
    "class UnetSegmentationItemList(SegmentationItemList):\n",
    "    _label_cls, _square_show_res = UnetSegmentationLabelList, False"
   ]
  },
  {
   "cell_type": "code",
   "execution_count": 74,
   "metadata": {},
   "outputs": [],
   "source": [
    "#export\n",
    "def get_databunch(ds_root_dir = 'dataset_20200708', ds_imgdir = 'image'\n",
    "                  , ds_maskdir = 'mask', bs = 16, valid_pct = 0.2):\n",
    "    '''\n",
    "    获取databunch\n",
    "    参数：\n",
    "        ds_root_dir：数据集的根目录\n",
    "        ds_imgdir：图片子目录\n",
    "        ds_maskdir: mask图片子目录\n",
    "        bs：batch_size\n",
    "        valid_pct:验证集百分比\n",
    "    返回值：\n",
    "        databunch\n",
    "    '''\n",
    "    data = UnetSegmentationItemList.from_folder( \\\n",
    "                    os.path.join(ds_root_dir, ds_imgdir))\n",
    "    \n",
    "    data = data.split_by_rand_pct(valid_pct)\n",
    "    data = data.label_from_func( \\\n",
    "            partial(get_y, ds_rootdir = ds_root_dir, imgdir = ds_imgdir, maskdir = ds_maskdir) \\\n",
    "            , classes=['0', '255'])\n",
    "    \n",
    "    #所有的transform除了crop都影响不到ImageSegment.所以flip rotate warp zoom都不能要。\n",
    "    transforms = get_transforms(do_flip = False\n",
    "                                , flip_vert = False\n",
    "                                , max_rotate = 0\n",
    "                                , max_warp = 0\n",
    "                                , max_zoom = 1 #不要缩放\n",
    "                            )\n",
    "    \n",
    "    #brightness,contrast对y没啥影响                        \n",
    "    #transforms = (transforms[0][1:], transforms[1])\n",
    "    '''\n",
    "    for tfm in transforms[0]:\n",
    "        if str(tfm.tfm).find('TfmLighting') >= 0:\n",
    "            tfm.use_on_y = False\n",
    "    '''  \n",
    "    #print(transforms)\n",
    "    \n",
    "    #import pdb; pdb.set_trace()        \n",
    "    data = data.transform(transforms)\n",
    "    data = data.databunch(bs=bs, num_workers = 0)\n",
    "    data = data.normalize(imagenet_stats)\n",
    "    \n",
    "    '''\n",
    "    data = (UnetSegmentationItemList\n",
    "        .from_folder(os.path.join(ds_root_dir, ds_imgdir))\n",
    "        .split_by_rand_pct(0.2)\n",
    "        .label_from_func(partial(get_y, ds_rootdir = ds_root_dir, imgdir = ds_imgdir, maskdir = ds_maskdir), classes=['0', '255'])\n",
    "        .transform(get_transforms(), tfm_y=True)\n",
    "        .databunch(bs=bs, num_workers = 0)\n",
    "        .normalize(imagenet_stats)\n",
    "       )\n",
    "    '''    \n",
    "    return data\n",
    "\n",
    "#data = get_databunch(bs = 4)\n",
    "#data.show_batch()"
   ]
  },
  {
   "cell_type": "markdown",
   "metadata": {},
   "source": [
    "# test"
   ]
  },
  {
   "cell_type": "code",
   "execution_count": 75,
   "metadata": {},
   "outputs": [],
   "source": [
    "data = get_databunch(bs = 4)"
   ]
  },
  {
   "cell_type": "code",
   "execution_count": 76,
   "metadata": {},
   "outputs": [
    {
     "data": {
      "text/plain": [
       "ImageDataBunch;\n",
       "\n",
       "Train: LabelList (160 items)\n",
       "x: UnetSegmentationItemList\n",
       "Image (3, 512, 512),Image (3, 512, 512),Image (3, 512, 512),Image (3, 512, 512),Image (3, 512, 512)\n",
       "y: UnetSegmentationLabelList\n",
       "ImageSegment (1, 512, 512),ImageSegment (1, 512, 512),ImageSegment (1, 512, 512),ImageSegment (1, 512, 512),ImageSegment (1, 512, 512)\n",
       "Path: dataset_20200708/image;\n",
       "\n",
       "Valid: LabelList (40 items)\n",
       "x: UnetSegmentationItemList\n",
       "Image (3, 512, 512),Image (3, 512, 512),Image (3, 512, 512),Image (3, 512, 512),Image (3, 512, 512)\n",
       "y: UnetSegmentationLabelList\n",
       "ImageSegment (1, 512, 512),ImageSegment (1, 512, 512),ImageSegment (1, 512, 512),ImageSegment (1, 512, 512),ImageSegment (1, 512, 512)\n",
       "Path: dataset_20200708/image;\n",
       "\n",
       "Test: None"
      ]
     },
     "execution_count": 76,
     "metadata": {},
     "output_type": "execute_result"
    }
   ],
   "source": [
    "data"
   ]
  },
  {
   "cell_type": "code",
   "execution_count": null,
   "metadata": {
    "scrolled": true
   },
   "outputs": [],
   "source": [
    "data.show_batch(ds_type=DatasetType.Valid)"
   ]
  },
  {
   "cell_type": "code",
   "execution_count": null,
   "metadata": {},
   "outputs": [],
   "source": [
    "data.train_ds[0][1]"
   ]
  },
  {
   "cell_type": "markdown",
   "metadata": {},
   "source": [
    "# export"
   ]
  },
  {
   "cell_type": "code",
   "execution_count": 55,
   "metadata": {},
   "outputs": [
    {
     "name": "stdout",
     "output_type": "stream",
     "text": [
      "Converted databunch.ipynb to exp/nb_databunch.py\r\n"
     ]
    }
   ],
   "source": [
    "!python notebook2script.py --fname 'databunch.ipynb' --outputDir './exp/'"
   ]
  }
 ],
 "metadata": {
  "kernelspec": {
   "display_name": "Python 3",
   "language": "python",
   "name": "python3"
  },
  "language_info": {
   "codemirror_mode": {
    "name": "ipython",
    "version": 3
   },
   "file_extension": ".py",
   "mimetype": "text/x-python",
   "name": "python",
   "nbconvert_exporter": "python",
   "pygments_lexer": "ipython3",
   "version": "3.7.2"
  }
 },
 "nbformat": 4,
 "nbformat_minor": 4
}
