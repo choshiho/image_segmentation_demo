{
 "cells": [
  {
   "cell_type": "markdown",
   "metadata": {},
   "source": [
    "# import "
   ]
  },
  {
   "cell_type": "code",
   "execution_count": 25,
   "metadata": {},
   "outputs": [],
   "source": [
    "import cv2"
   ]
  },
  {
   "cell_type": "code",
   "execution_count": 26,
   "metadata": {},
   "outputs": [],
   "source": [
    "import random"
   ]
  },
  {
   "cell_type": "code",
   "execution_count": null,
   "metadata": {
    "scrolled": true
   },
   "outputs": [],
   "source": [
    "from fastai.vision import *"
   ]
  },
  {
   "cell_type": "code",
   "execution_count": 13,
   "metadata": {},
   "outputs": [],
   "source": [
    "import os"
   ]
  },
  {
   "cell_type": "markdown",
   "metadata": {},
   "source": [
    "# functions"
   ]
  },
  {
   "cell_type": "code",
   "execution_count": 52,
   "metadata": {},
   "outputs": [],
   "source": []
  },
  {
   "cell_type": "code",
   "execution_count": 53,
   "metadata": {},
   "outputs": [],
   "source": []
  },
  {
   "cell_type": "code",
   "execution_count": 55,
   "metadata": {},
   "outputs": [],
   "source": [
    "# export\n",
    "#选择一个类别的\n",
    "def pick_mask_1c(img, color_val, dbg = []):\n",
    "    '''\n",
    "    根据数据集的mask图像，数一下图像上某个灰度值的点的数量。\n",
    "    '''    \n",
    "    gray = cv2.cvtColor(img, cv2.COLOR_BGR2GRAY)\n",
    "    #先去掉高于这个值的\n",
    "    thresh = cv2.threshold(gray, color_val, color_val, cv2.THRESH_TOZERO_INV)[1]\n",
    "    #然后去掉低于这个值的\n",
    "    thresh2 = cv2.threshold(thresh, color_val - 1, color_val, cv2.THRESH_BINARY)[1]\n",
    "    if 'show_c' in dbg:\n",
    "        cv2.imshow('pickmask_thres', thresh)\n",
    "        cv2.imshow('pickmask_thres2', thresh2)\n",
    "        #cv2.waitKey()\n",
    "    dcnt = cv2.countNonZero(thresh2)\n",
    "    return dcnt, thresh2"
   ]
  },
  {
   "cell_type": "code",
   "execution_count": 109,
   "metadata": {},
   "outputs": [],
   "source": [
    "#对于CCF中的3.png，只有一块水体，导致在图上生成的所有有效图像都是围绕一个小水坑的。\n",
    "#所以改用gen_dataset2\n",
    "def gen_dataset(imgfns, maskfns, output_path = 'label/dataset_20200708', img_sz = (512, 512)\n",
    "                , ds_sz = 10, blank_pct = 0.2, suffix = '.png', dbg = []):\n",
    "    '''\n",
    "    生成数据集。按照原始大图的数量平均分配每个生成的图片的数量。\n",
    "    参数：\n",
    "        imgfns：大图片文件名列表\n",
    "        maskfns：对应的mask文件名列表。与上一个参数里面的文件一一对应\n",
    "        output_path：输出文件目录\n",
    "        img_sz：提取的小图的大小,内容为(width, height)\n",
    "        ds_sz：生成图片数量\n",
    "        blank_pct：无水体图片数量比例\n",
    "        suffix：生成图片文件扩展名\n",
    "        dbg：调试用\n",
    "    '''\n",
    "    assert len(imgfns) == len(maskfns)\n",
    "    if not os.path.exists(output_path):\n",
    "        os.makedirs(output_path)\n",
    "    #总的空白的数量。在总数比较少的情况下会产出为0，专门处理一下。\n",
    "    TOTAL_BLANK_CNT = int(ds_sz * blank_pct)\n",
    "    total_cnt = 0#产出计数\n",
    "    total_cnt_blank = 0#总得空白的计数\n",
    "    for imgfn, maskfn in zip(imgfns, maskfns):\n",
    "        img = cv2.imread(imgfn)\n",
    "        mask = cv2.imread(maskfn) \n",
    "        #print(imgfn, maskfn, img.shape, mask.shape)\n",
    "        assert img.shape == mask.shape\n",
    "                \n",
    "        #当前大图需要产生的总的数据图片的数量\n",
    "        DS_SZ_1IMG = ds_sz // len(imgfns)\n",
    "        #当前大图需要产生的空白数据图片的数量\n",
    "        DS_SZ_1IMG_BLANK = int(DS_SZ_1IMG * blank_pct)\n",
    "        #比如总共产出10个数据集，0.2空白，三个大图，会导致每个图的空白数量都是0.这里专门处理一下\n",
    "        if DS_SZ_1IMG_BLANK == 0 and TOTAL_BLANK_CNT > 0 and total_cnt_blank < TOTAL_BLANK_CNT:\n",
    "            DS_SZ_1IMG_BLANK = 1\n",
    "        #需要产生的有效图片的数量\n",
    "        DS_SZ_1IMG_VALID = DS_SZ_1IMG - DS_SZ_1IMG_BLANK\n",
    "        \n",
    "        validcnt = 0 #当前图片产生的数量\n",
    "        blankcnt = 0#当前产出的空白数据集的数量\n",
    "        #print('dbg1', DS_SZ_1IMG, DS_SZ_1IMG_BLANK, DS_SZ_1IMG_VALID)\n",
    "        #保证能凑成整数。而不是要求1000只有999\n",
    "        while (total_cnt < ds_sz and total_cnt >= ds_sz - ds_sz % len(imgfns)) \\\n",
    "                or validcnt < DS_SZ_1IMG_VALID or blankcnt < DS_SZ_1IMG_BLANK:\n",
    "            \n",
    "            dsx = random.randint(0, img.shape[0] - img_sz[1])\n",
    "            dsy = random.randint(0, img.shape[1] - img_sz[0])\n",
    "            dsimg = img[dsx : dsx + img_sz[1], dsy : dsy + img_sz[0]]\n",
    "\n",
    "            dsmask = mask[dsx : dsx + img_sz[1], dsy : dsy + img_sz[0]]\n",
    "            rdsmask = dsmask.copy()\n",
    "            \n",
    "            area, dsmask = pick_mask_1c(dsmask, TYP_WATER)\n",
    "            #根据比例判断一下是否有效的\n",
    "            if area / (img_sz[0] * img_sz[1]) > BLANK_TH:\n",
    "                print(validcnt, total_cnt, ds_sz % len(imgfns))\n",
    "                #超过了数量的放弃.并且保证到达整数\n",
    "                if validcnt >= DS_SZ_1IMG_VALID \\\n",
    "                        and total_cnt < ds_sz - ds_sz % len(imgfns): #凑整数\n",
    "                    continue\n",
    "                validcnt += 1\n",
    "            else:\n",
    "                if blankcnt >= DS_SZ_1IMG_BLANK:\n",
    "                    continue\n",
    "                blankcnt += 1\n",
    "                total_cnt_blank += 1\n",
    "            \n",
    "            dsmask = dsmask * 255 #转换到白色\n",
    "            \n",
    "            rdsmask *= 60\n",
    "            \n",
    "            cv2.imwrite(os.path.join(output_path, '%05d.%s' % (total_cnt, suffix.split('.')[-1])), dsimg)\n",
    "            cv2.imwrite(os.path.join(output_path, '%05d_mask.%s' % (total_cnt, suffix.split('.')[-1])), dsmask)\n",
    "            if 'save_rmask' in dbg:\n",
    "                cv2.imwrite(os.path.join(output_path, '%05d_mask_r.%s' % (total_cnt, suffix.split('.')[-1])), rdsmask)\n",
    "            \n",
    "            total_cnt += 1\n",
    "           "
   ]
  },
  {
   "cell_type": "code",
   "execution_count": 128,
   "metadata": {},
   "outputs": [],
   "source": [
    "#export\n",
    "def gen_dataset2(imgfns, maskfns, output_dir = 'label/dataset_20200708', imgdir = 'image'\n",
    "                , maskdir = 'mask', img_sz = (512, 512), ds_sz = 1000, blank_pct = 0.2\n",
    "                , suffix = '.png', dbg = []):\n",
    "    '''\n",
    "    生成数据集\n",
    "    参数：\n",
    "        imgfns：大图片文件名列表\n",
    "        maskfns：对应的mask文件名列表。与上一个参数里面的文件一一对应\n",
    "        output_dir：输出数据集目录\n",
    "        imgdir：输出数据集中存放图片的子目录。\n",
    "        maskdir：输出数据集中存放mask图片的子目录\n",
    "        img_sz：提取的小图的大小,内容为(width, height)\n",
    "        ds_sz：生成图片数量\n",
    "        blank_pct：无水体图片数量比例\n",
    "        suffix：生成图片文件扩展名\n",
    "        dbg：调试用\n",
    "    '''\n",
    "    assert len(imgfns) == len(maskfns)\n",
    "    #检查创建目录\n",
    "    for sdir in ['', imgdir, maskdir]:\n",
    "        if not os.path.exists(os.path.join(output_dir, sdir)):\n",
    "            os.makedirs(os.path.join(output_dir, sdir))\n",
    "    total_cnt = 0#产出计数\n",
    "    imgs = []\n",
    "    for imgfn, maskfn in zip(imgfns, maskfns):\n",
    "        img = cv2.imread(imgfn)\n",
    "        mask = cv2.imread(maskfn) \n",
    "        #print(imgfn, maskfn, img.shape, mask.shape)\n",
    "        assert img.shape == mask.shape\n",
    "        imgs += [(img, mask)]\n",
    "    \n",
    "    #当前大图需要产生的空白数据图片的数量\n",
    "    DS_SZ_BLANK = int(ds_sz * blank_pct)        \n",
    "    #需要产生的有效图片的数量\n",
    "    DS_SZ_VALID = ds_sz - DS_SZ_BLANK\n",
    "\n",
    "    validcnt = 0 #当前图片产生的数量\n",
    "    blankcnt = 0#当前产出的空白数据集的数量\n",
    "    #print('dbg1', DS_SZ_1IMG, DS_SZ_1IMG_BLANK, DS_SZ_1IMG_VALID)\n",
    "    #保证能凑成整数。而不是要求1000只有999\n",
    "    while validcnt < DS_SZ_VALID or blankcnt < DS_SZ_BLANK:\n",
    "        idx = random.randint(0, 2)\n",
    "        #print(idx, imgfns[idx])\n",
    "        img, mask = imgs[idx]\n",
    "        dsx = random.randint(0, img.shape[0] - img_sz[1])\n",
    "        dsy = random.randint(0, img.shape[1] - img_sz[0])\n",
    "        dsimg = img[dsx : dsx + img_sz[1], dsy : dsy + img_sz[0]]\n",
    "\n",
    "        dsmask = mask[dsx : dsx + img_sz[1], dsy : dsy + img_sz[0]]\n",
    "        rdsmask = dsmask.copy()\n",
    "\n",
    "        area, dsmask = pick_mask_1c(dsmask, TYP_WATER)\n",
    "        #根据比例判断一下是否有效的\n",
    "        if area / (img_sz[0] * img_sz[1]) > BLANK_TH:\n",
    "            #print(validcnt, total_cnt, ds_sz % len(imgfns))\n",
    "            #超过了数量的放弃.并且保证到达整数\n",
    "            if validcnt >= DS_SZ_VALID:\n",
    "                continue\n",
    "            validcnt += 1\n",
    "        else:\n",
    "            if blankcnt >= DS_SZ_BLANK:\n",
    "                continue\n",
    "            blankcnt += 1\n",
    "\n",
    "        dsmask = dsmask * 85 #转换到白色\n",
    "\n",
    "        rdsmask *= 60\n",
    "\n",
    "        cv2.imwrite(os.path.join(output_dir, imgdir, '%05d.%s' % (total_cnt, suffix.split('.')[-1])), dsimg)\n",
    "        cv2.imwrite(os.path.join(output_dir, maskdir, '%05d_mask.%s' % (total_cnt, suffix.split('.')[-1])), dsmask)\n",
    "        if 'save_rmask' in dbg:\n",
    "            cv2.imwrite(os.path.join(output_dir, maskdir, '%05d_mask_r.%s' % (total_cnt, suffix.split('.')[-1])), rdsmask)\n",
    "\n",
    "        total_cnt += 1\n"
   ]
  },
  {
   "cell_type": "markdown",
   "metadata": {},
   "source": [
    "# test"
   ]
  },
  {
   "cell_type": "code",
   "execution_count": 116,
   "metadata": {},
   "outputs": [],
   "source": [
    "# export \n",
    "#原始的mask图像数值在0-4之间，这里放大一下到肉眼可以分辨的程度。\n",
    "COLOR_STEP = 60"
   ]
  },
  {
   "cell_type": "code",
   "execution_count": 117,
   "metadata": {},
   "outputs": [],
   "source": [
    "# export\n",
    "# 关注的水体的灰度值。\n",
    "#0 未标注。 1 空地。 2 建筑 。3 水体。4 道路\n",
    "TYP_WATER = 3\n",
    "SEG_WATER = TYP_WATER * COLOR_STEP"
   ]
  },
  {
   "cell_type": "code",
   "execution_count": 118,
   "metadata": {},
   "outputs": [],
   "source": [
    "# export\n",
    "#水体占比在这个值一下的认为是空的\n",
    "BLANK_TH = 0.04"
   ]
  },
  {
   "cell_type": "code",
   "execution_count": 124,
   "metadata": {},
   "outputs": [],
   "source": [
    "imgfns = ['data/src/image/1.png', 'data/src/image/2.png', 'data/src/image/3.png']"
   ]
  },
  {
   "cell_type": "code",
   "execution_count": 125,
   "metadata": {},
   "outputs": [],
   "source": [
    "maskimgfns = ['data/label/train1_labels_8bits.png', 'data/label/train2_labels_8bits.png'\n",
    "             , 'data/label/train3_labels_8bits.png']"
   ]
  },
  {
   "cell_type": "code",
   "execution_count": null,
   "metadata": {},
   "outputs": [],
   "source": []
  },
  {
   "cell_type": "code",
   "execution_count": null,
   "metadata": {},
   "outputs": [],
   "source": []
  },
  {
   "cell_type": "code",
   "execution_count": 121,
   "metadata": {},
   "outputs": [],
   "source": [
    "#gen_dataset(imgfns, maskimgfns, ds_sz = 2000) "
   ]
  },
  {
   "cell_type": "code",
   "execution_count": 129,
   "metadata": {
    "scrolled": false
   },
   "outputs": [],
   "source": [
    "gen_dataset2(imgfns, maskimgfns, ds_sz = 200, suffix='jpg') "
   ]
  },
  {
   "cell_type": "code",
   "execution_count": null,
   "metadata": {},
   "outputs": [],
   "source": []
  },
  {
   "cell_type": "code",
   "execution_count": null,
   "metadata": {},
   "outputs": [],
   "source": []
  },
  {
   "cell_type": "code",
   "execution_count": null,
   "metadata": {},
   "outputs": [],
   "source": []
  },
  {
   "cell_type": "code",
   "execution_count": null,
   "metadata": {},
   "outputs": [],
   "source": []
  },
  {
   "cell_type": "code",
   "execution_count": null,
   "metadata": {},
   "outputs": [],
   "source": []
  },
  {
   "cell_type": "code",
   "execution_count": 102,
   "metadata": {},
   "outputs": [],
   "source": [
    "def pickds(imgfn, maskimgfn, SZ, dbg = []):\n",
    "    '''\n",
    "    从一个图像里面提取数据集\n",
    "    输入:\n",
    "        imgfn：要处理的大图\n",
    "        maskimgfn：对应的mask图片\n",
    "    '''\n",
    "    ZOOM = 3\n",
    "    img = cv2.imread(imgfn)\n",
    "    mskimg = cv2.imread(maskimgfn)\n",
    "\n",
    "    if 'show_c' in dbg:\n",
    "        show_mskimg = cv2.resize(mskimg, (mskimg.shape[1] // ZOOM, mskimg.shape[0] // ZOOM))\n",
    "        show_mskimg = show_mskimg * COLOR_STEP\n",
    "        cv2.imshow('mask', show_mskimg)\n",
    "        show_img = cv2.resize(img, (img.shape[1] // ZOOM, img.shape[0] // ZOOM))\n",
    "        cv2.imshow('', show_img)\n",
    "\n",
    "    r = do_pick(img, mskimg, SZ, dbg)\n",
    "    \n",
    "    if 'show_c' in dbg:\n",
    "        cv2.waitKey()"
   ]
  },
  {
   "cell_type": "code",
   "execution_count": 101,
   "metadata": {},
   "outputs": [],
   "source": [
    "def do_pick(img, mskimg, SZ, dbg):\n",
    "    '''\n",
    "    从原始图像里面随机提起一个图像，大小由SZ参数指定。\n",
    "    '''\n",
    "    dsx = random.randint(0, img.shape[0] - SZ[1])\n",
    "    dsy = random.randint(0, img.shape[1] - SZ[0])\n",
    "    dsimg = img[dsx : dsx + SZ[1], dsy : dsy + SZ[0]]\n",
    "    \n",
    "    dsmskimg = mskimg[dsx : dsx + SZ[1], dsy : dsy + SZ[0]]\n",
    "    dsmskimg = dsmskimg * COLOR_STEP\n",
    "\n",
    "    if 'show_c' in dbg:\n",
    "        cv2.imshow('dsimg', dsimg)\n",
    "        cv2.imshow('dmsksimg', dsmskimg)\n",
    "\n",
    "    cnt, _ = pick_mask_1c(dsmskimg, SEG_WATER, dbg)\n",
    "\n",
    "    if cnt / (SZ[0] * SZ[1]) < 0.04:\n",
    "        #占比太小了。略过\n",
    "        print('ignore')\n",
    "        return False\n",
    "\n",
    "    print(cnt, SZ[0] * SZ[1], dbg)\n",
    "    return True"
   ]
  },
  {
   "cell_type": "markdown",
   "metadata": {},
   "source": [
    "# export"
   ]
  },
  {
   "cell_type": "code",
   "execution_count": 130,
   "metadata": {},
   "outputs": [
    {
     "name": "stderr",
     "output_type": "stream",
     "text": [
      "Traceback (most recent call last):\n",
      "  File \"notebook2script.py\", line 3, in <module>\n",
      "    import json,fire,re\n",
      "ModuleNotFoundError: No module named 'fire'\n"
     ]
    }
   ],
   "source": [
    "!python notebook2script.py --fname 'gen_ds.ipynb' --outputDir './exp/'"
   ]
  },
  {
   "cell_type": "code",
   "execution_count": null,
   "metadata": {},
   "outputs": [],
   "source": []
  }
 ],
 "metadata": {
  "kernelspec": {
   "display_name": "Python 3",
   "language": "python",
   "name": "python3"
  },
  "language_info": {
   "codemirror_mode": {
    "name": "ipython",
    "version": 3
   },
   "file_extension": ".py",
   "mimetype": "text/x-python",
   "name": "python",
   "nbconvert_exporter": "python",
   "pygments_lexer": "ipython3",
   "version": "3.6.10"
  }
 },
 "nbformat": 4,
 "nbformat_minor": 4
}
